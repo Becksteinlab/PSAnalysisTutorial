{
 "cells": [
  {
   "cell_type": "code",
   "execution_count": 1,
   "metadata": {
    "collapsed": true
   },
   "outputs": [],
   "source": [
    "%matplotlib inline\n",
    "%load_ext autoreload\n",
    "%autoreload 2"
   ]
  },
  {
   "cell_type": "code",
   "execution_count": 2,
   "metadata": {
    "collapsed": false
   },
   "outputs": [
    {
     "name": "stdout",
     "output_type": "stream",
     "text": [
      "Building collection of simulations...\n",
      "Initializing Path Similarity Analysis...\n",
      "Generating Path objects from trajectories...\n",
      "Calculating Hausdorff distance matrix...\n",
      "Plotting heat map-dendrogram for hierarchical (Ward) clustering...\n",
      "Calculating (discrete) Fréchet distance matrix...\n",
      "Plotting heat map-dendrogram for hierarchical (Ward) clustering...\n"
     ]
    },
    {
     "name": "stderr",
     "output_type": "stream",
     "text": [
      "/nfs/homes/sseyler/.local/lib/python2.7/site-packages/matplotlib/backends/backend_pdf.py:2184: FutureWarning: comparison to `None` will result in an elementwise object comparison in the future.\n",
      "  different = bool(ours != theirs)\n"
     ]
    }
   ],
   "source": [
    "%run psa_short"
   ]
  },
  {
   "cell_type": "code",
   "execution_count": 9,
   "metadata": {
    "collapsed": false
   },
   "outputs": [],
   "source": [
    "psa_short.plot_annotated_heatmap(filename='df_ward_psa-short_annot.pdf', linkage='ward');"
   ]
  }
 ],
 "metadata": {
  "kernelspec": {
   "display_name": "Python 2",
   "language": "python",
   "name": "python2"
  },
  "language_info": {
   "codemirror_mode": {
    "name": "ipython",
    "version": 2
   },
   "file_extension": ".py",
   "mimetype": "text/x-python",
   "name": "python",
   "nbconvert_exporter": "python",
   "pygments_lexer": "ipython2",
   "version": "2.7.6"
  }
 },
 "nbformat": 4,
 "nbformat_minor": 0
}
